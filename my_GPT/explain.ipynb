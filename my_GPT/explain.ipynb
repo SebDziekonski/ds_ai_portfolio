{
 "cells": [
  {
   "cell_type": "code",
   "execution_count": 10,
   "metadata": {},
   "outputs": [],
   "source": [
    "from pathlib import Path\n",
    "import json"
   ]
  },
  {
   "cell_type": "code",
   "execution_count": 11,
   "metadata": {},
   "outputs": [],
   "source": [
    "\n",
    "# Tworzenie sciezki \n",
    "DB_PATH = Path(\"db_prototyp\")\n",
    "DB_CONVERSATIONS_PATH = DB_PATH / \"conversations\"\n",
    "\n",
    "if not DB_PATH.exists():\n",
    "    DB_PATH.mkdir()\n",
    "    DB_CONVERSATIONS_PATH.mkdir()"
   ]
  },
  {
   "cell_type": "code",
   "execution_count": 12,
   "metadata": {},
   "outputs": [
    {
     "data": {
      "text/plain": [
       "{'id': 1,\n",
       " 'name': 'Nazwa Rozmowy',\n",
       " 'chatbot_personality': 'osobowosc chatbota',\n",
       " 'message': [{'role': 'user', 'content': 'Czesc'},\n",
       "  {'role': 'assistant',\n",
       "   'content': 'Czesc, jak moge ci pomoc?',\n",
       "   'usage': {'completion_tokens': 13,\n",
       "    'prompt_tokens': 23,\n",
       "    'total_tokens': 36}}]}"
      ]
     },
     "execution_count": 12,
     "metadata": {},
     "output_type": "execute_result"
    }
   ],
   "source": [
    "# Struktura do zapisywania rozmow w bazie danych \n",
    "{\n",
    "    \"id\": 1,\n",
    "    \"name\": \"Nazwa Rozmowy\",\n",
    "    \"chatbot_personality\": \"osobowosc chatbota\",\n",
    "    \"message\": [\n",
    "        {\n",
    "            \"role\": \"user\",\n",
    "            \"content\": \"Czesc\",\n",
    "        },\n",
    "        {\n",
    "            \"role\": \"assistant\",\n",
    "            \"content\": \"Czesc, jak moge ci pomoc?\",\n",
    "            \"usage\": {\n",
    "                \"completion_tokens\": 13,\n",
    "                \"prompt_tokens\": 23,\n",
    "                \"total_tokens\": 36\n",
    "            }\n",
    "        }\n",
    "    ]\n",
    "}"
   ]
  },
  {
   "cell_type": "code",
   "execution_count": 13,
   "metadata": {},
   "outputs": [
    {
     "data": {
      "text/plain": [
       "{'id': 1,\n",
       " 'name': 'Konwersacja 1',\n",
       " 'chatbot_personality': 'osobowosc chatbota...',\n",
       " 'messages': []}"
      ]
     },
     "execution_count": 13,
     "metadata": {},
     "output_type": "execute_result"
    }
   ],
   "source": [
    "# Domyslna wartosc dla nowo utworzonej rozmowy \n",
    "{\n",
    "    \"id\": 1,\n",
    "    \"name\": \"Konwersacja 1\",\n",
    "    \"chatbot_personality\": \"osobowosc chatbota...\",\n",
    "    \"messages\": []\n",
    "}"
   ]
  },
  {
   "cell_type": "code",
   "execution_count": 16,
   "metadata": {},
   "outputs": [],
   "source": [
    "# Jak upewnic sie ze istnieje poczatkowa rozmowa i jest ona aktywna\n",
    "DEFAULT_PERSONALITY = \"\"\"\n",
    "Jestes pomocnikiem, ktory odpowiada na wszystkie pytania uzytkownika.\n",
    "Odpowiadaj na pytania w sposob zwiezly i zrozumialy.\n",
    "\"\"\".strip()\n",
    "\n",
    "if not DB_PATH.exists():\n",
    "    DB_PATH.mkdir()\n",
    "    DB_CONVERSATIONS_PATH.mkdir()\n",
    "    conversation_id = 1\n",
    "    conversation_name = \"Konwersacja 1\"\n",
    "\n",
    "# Tworzymy nowa konwersacje\n",
    "\n",
    "    with open(DB_CONVERSATIONS_PATH / f\"{conversation_id}.json\", \"w\") as f:\n",
    "        f.write(json.dumps({\n",
    "            \"id\" : conversation_id,\n",
    "            \"name\": conversation_name,\n",
    "            \"chatbot_personality\": DEFAULT_PERSONALITY,\n",
    "            \"message\": [],\n",
    "        }))\n",
    "\n",
    "# Ktora odrazu staje sie aktualna\n",
    "    with open(DB_PATH / \"current.json\", \"w\") as f:\n",
    "        f.write(json.dumps({\n",
    "            \"current_conversation_id\": conversation_id\n",
    "        }))"
   ]
  },
  {
   "cell_type": "code",
   "execution_count": 17,
   "metadata": {},
   "outputs": [],
   "source": [
    "# Jak wczytac istnejaca rozmowe\n",
    "with open(DB_CONVERSATIONS_PATH / \"13.json\", \"w\") as f:\n",
    "    f.write(json.dumps({\n",
    "        \"id\": 13,\n",
    "        \"name\": \"Konwersacja 13\",\n",
    "        \"chatbot_personality\": DEFAULT_PERSONALITY,\n",
    "        \"messages\": [ \n",
    "            {\n",
    "                \"author\": \"user\",\n",
    "                \"content\": \"czesc! Chcialbym sie dowiedziec, jakie sa zasady gry w szachy.\",\n",
    "            },\n",
    "            {\n",
    "                \"author\": \"assistant\",\n",
    "                \"content\": \"Zasady gry w szachy sa bardzo proste. Czy chcesz, zebym je opisal?\",\n",
    "                \"usage\": {\n",
    "                    \"completion_tokens\": 13,\n",
    "                    \"prompt_tokens\": 23,\n",
    "                    \"total_tokens\": 36\n",
    "                }\n",
    "            },\n",
    "        ],\n",
    "    }))\n",
    "\n",
    "# ustawmy ja jako aktualna\n",
    "with open(DB_PATH / \"current.json\", \"w\") as f:\n",
    "    f.write(json.dumps({\n",
    "        \"current_conversation_id\": 13,\n",
    "    }))"
   ]
  },
  {
   "cell_type": "code",
   "execution_count": 19,
   "metadata": {},
   "outputs": [
    {
     "name": "stdout",
     "output_type": "stream",
     "text": [
      "13 Konwersacja 13\n"
     ]
    }
   ],
   "source": [
    "# Teraz celem jest wczytwanie aktualnej rozmowy i jej histori\n",
    "with open(DB_PATH / \"current.json\", \"r\") as f:\n",
    "    data = json.loads(f.read())\n",
    "    conversation_id = data[\"current_conversation_id\"]\n",
    "\n",
    "with open(DB_CONVERSATIONS_PATH / f\"{conversation_id}.json\", \"r\") as f:\n",
    "    conversation = json.loads(f.read())\n",
    "\n",
    "print(conversation_id, conversation[\"name\"])"
   ]
  },
  {
   "cell_type": "code",
   "execution_count": null,
   "metadata": {},
   "outputs": [],
   "source": [
    "# Budujemy funkcje ktora buduje nam wszytskie struktury na poczatku\n",
    "\n",
    "DEFAULT_PERSONALITY = \"\"\"\n",
    "Jestes pomocnikiem, ktory odpowiada na wszystkie pytania uzytkownika.\n",
    "Odpowiadaj na pytania w sposob zwiezly i zrozumialy.\n",
    "\"\"\".strip()\n",
    "\n",
    "def load_current_conversation():\n",
    "    if not DB_PATH.exists():\n",
    "        DB_PATH.mkdir()\n",
    "        DB_CONVERSATIONS_PATH.mkdir()\n",
    "        conversation_id = 1\n",
    "        conversation = {\n",
    "            \"id\" : conversation_id,\n",
    "                \"name\": \"Konwersacja 1\",\n",
    "                \"chatbot_personality\": DEFAULT_PERSONALITY,\n",
    "                \"message\": [],\n",
    "        }\n",
    "\n",
    "# tworzymy nowa konwersacje\n",
    "        with open(DB_CONVERSATIONS_PATH / f\"{conversation_id}.json\", \"w\") as f:\n",
    "            f.write(json.dumps(conversation))\n",
    "\n",
    "# ktora odrazu staje sie aktualna\n",
    "        with open(DB_PATH / \"current.json\", \"w\") as f:\n",
    "            f.write(json.dumps({\n",
    "                \"current_conversation_id\": conversation_id,\n",
    "    }))\n",
    "        \n",
    "    else:\n",
    "        # prawdzamy, ktora konwersacja jest aktualna\n",
    "        with open(DB_PATH / \"current.json\", \"r\") as f:\n",
    "            data = json.loads(f.read())\n",
    "            conversation_id = data[\"current_conversation_id\"]\n",
    "\n",
    "        # wczytujemy konwersacje \n",
    "        with open(DB_CONVERSATIONS_PATH / f\"{conversation_id}.json\", \"r\") as f:\n",
    "            conversation = json.loads(f.read())\n"
   ]
  },
  {
   "cell_type": "code",
   "execution_count": 25,
   "metadata": {},
   "outputs": [
    {
     "data": {
      "text/plain": [
       "15"
      ]
     },
     "execution_count": 25,
     "metadata": {},
     "output_type": "execute_result"
    }
   ],
   "source": [
    "# Jak dodac nowa konwersacje \n",
    "# najpierw musimy znalzc sposob na obliczenie kolejnego ID\n",
    "\n",
    "# poszukajmy ID dla naszej kolejner rozmowy \n",
    "conversation_ids = []\n",
    "for p in DB_CONVERSATIONS_PATH.glob(\"*.json\"):\n",
    "    conversation_ids.append(int(p.stem))\n",
    "\n",
    "#conversation_ids zawiera wszystkie id konwersacji \n",
    "#nastepna konwersacja bedzie miala ID o 1 wiekszy niz najwieksze\n",
    "conversation_id = max(conversation_ids) + 1\n",
    "conversation_id"
   ]
  },
  {
   "cell_type": "code",
   "execution_count": 24,
   "metadata": {},
   "outputs": [],
   "source": [
    "# kontynuacja nowej rozmowy\n",
    "coversation = {\n",
    "    \"id\": conversation_id,\n",
    "    \"name\": f\"konversacja {conversation_id}\",\n",
    "    \"chatbot_pesonality\": DEFAULT_PERSONALITY,\n",
    "    \"messages\":[],\n",
    "\n",
    "}"
   ]
  },
  {
   "cell_type": "code",
   "execution_count": 23,
   "metadata": {},
   "outputs": [],
   "source": [
    "# tworzymy nowa konwersacje\n",
    "with open(DB_CONVERSATIONS_PATH / f\"{conversation_id}.json\", \"w\") as f:\n",
    "    f.write(json.dumps(conversation))\n"
   ]
  },
  {
   "cell_type": "code",
   "execution_count": 26,
   "metadata": {},
   "outputs": [],
   "source": [
    "# ktora odrazu staje sie aktualna rozmowa\n",
    "with open(DB_PATH / \"current.json\", \"w\") as f:\n",
    "    f.write(json.dumps({\n",
    "        \"current_conversation_id\": conversation_id,\n",
    "    }))"
   ]
  },
  {
   "cell_type": "code",
   "execution_count": 27,
   "metadata": {},
   "outputs": [],
   "source": [
    "# jak podmienic aktualna konwersacje \n",
    "# Np jesli chcemy podmienic aktualna konwersacje na konwersacje ID 2\n",
    "\n",
    "conversation_id = 1\n",
    "\n",
    "with open(DB_CONVERSATIONS_PATH / f\"{conversation_id}.json\", \"r\") as f:\n",
    "    conversation = json.loads(f.read())\n",
    "\n",
    "with open(DB_PATH / \"current.json\", \"w\") as f:\n",
    "    f.write(json.dumps({\n",
    "        \"current_conversation_id\": conversation_id,\n",
    "    }))"
   ]
  },
  {
   "cell_type": "code",
   "execution_count": 28,
   "metadata": {},
   "outputs": [
    {
     "data": {
      "text/plain": [
       "[{'id': 1, 'name': 'Konwersacja 1'},\n",
       " {'id': 13, 'name': 'Konwersacja 13'},\n",
       " {'id': 13, 'name': 'Konwersacja 13'}]"
      ]
     },
     "execution_count": 28,
     "metadata": {},
     "output_type": "execute_result"
    }
   ],
   "source": [
    "# jak wylistowac wszystkie konwersacje \n",
    "\n",
    "conversations = []\n",
    "for p in DB_CONVERSATIONS_PATH.glob(\"*.json\"):\n",
    "    with open(p, \"r\") as f:\n",
    "        conversation = json.loads(f.read())\n",
    "        conversations.append ({\n",
    "            \"id\": conversation[\"id\"],\n",
    "            \"name\": conversation[\"name\"],\n",
    "        })\n",
    "\n",
    "conversations"
   ]
  },
  {
   "cell_type": "code",
   "execution_count": 29,
   "metadata": {},
   "outputs": [],
   "source": [
    "# jak zmodyfikowac istniejaca konwersacje \n",
    " \n",
    "conversation_id = 1\n",
    "new_conversation_name = \"nowa konwersacja\"\n",
    "\n",
    "with open(DB_CONVERSATIONS_PATH / f\"{conversation_id}.json\", \"r\") as f:\n",
    "    conversation = json.loads(f.read())\n",
    "\n",
    "with open(DB_CONVERSATIONS_PATH / f\"{conversation_id}.json\", \"w\") as f:\n",
    "    f.write(json.dumps({\n",
    "        **conversation,\n",
    "        \"name\": new_conversation_name,\n",
    "    }))"
   ]
  }
 ],
 "metadata": {
  "kernelspec": {
   "display_name": "od_zera_do_ai",
   "language": "python",
   "name": "python3"
  },
  "language_info": {
   "codemirror_mode": {
    "name": "ipython",
    "version": 3
   },
   "file_extension": ".py",
   "mimetype": "text/x-python",
   "name": "python",
   "nbconvert_exporter": "python",
   "pygments_lexer": "ipython3",
   "version": "3.11.9"
  }
 },
 "nbformat": 4,
 "nbformat_minor": 2
}
